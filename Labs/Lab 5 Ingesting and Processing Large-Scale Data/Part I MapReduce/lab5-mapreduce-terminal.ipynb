{
 "cells": [
  {
   "cell_type": "code",
   "execution_count": 2,
   "id": "ebe2bff7",
   "metadata": {},
   "outputs": [
    {
     "name": "stdout",
     "output_type": "stream",
     "text": [
      "Collecting mrjob\n",
      "  Downloading mrjob-0.7.4-py2.py3-none-any.whl (439 kB)\n",
      "Requirement already satisfied: PyYAML>=3.10 in d:\\software\\anaconda3\\envs\\macs30123\\lib\\site-packages (from mrjob) (5.4.1)\n",
      "Installing collected packages: mrjob\n",
      "Successfully installed mrjob-0.7.4\n"
     ]
    }
   ],
   "source": [
    "! pip install mrjob"
   ]
  },
  {
   "cell_type": "code",
   "execution_count": 3,
   "id": "3c756459",
   "metadata": {},
   "outputs": [
    {
     "name": "stderr",
     "output_type": "stream",
     "text": [
      "No configs found; falling back on auto-configuration\n",
      "No configs specified for inline runner\n",
      "Traceback (most recent call last):\n",
      "  File \"mapreduce_lab5.py\", line 61, in <module>\n",
      "    MRMostUsedWord.run()\n",
      "  File \"D:\\Software\\Anaconda3\\envs\\macs30123\\lib\\site-packages\\mrjob\\job.py\", line 616, in run\n",
      "    cls().execute()\n",
      "  File \"D:\\Software\\Anaconda3\\envs\\macs30123\\lib\\site-packages\\mrjob\\job.py\", line 687, in execute\n",
      "    self.run_job()\n",
      "  File \"D:\\Software\\Anaconda3\\envs\\macs30123\\lib\\site-packages\\mrjob\\job.py\", line 636, in run_job\n",
      "    runner.run()\n",
      "  File \"D:\\Software\\Anaconda3\\envs\\macs30123\\lib\\site-packages\\mrjob\\runner.py\", line 500, in run\n",
      "    self._check_input_paths()\n",
      "  File \"D:\\Software\\Anaconda3\\envs\\macs30123\\lib\\site-packages\\mrjob\\runner.py\", line 1133, in _check_input_paths\n",
      "    self._check_input_path(path)\n",
      "  File \"D:\\Software\\Anaconda3\\envs\\macs30123\\lib\\site-packages\\mrjob\\runner.py\", line 1147, in _check_input_path\n",
      "    'Input path %s does not exist!' % (path,))\n",
      "OSError: Input path 'sample_us.tsv' does not exist!\n"
     ]
    }
   ],
   "source": [
    "! python mapreduce_lab5.py 'sample_us.tsv'"
   ]
  },
  {
   "cell_type": "code",
   "execution_count": 4,
   "id": "edddf5a5",
   "metadata": {},
   "outputs": [
    {
     "name": "stderr",
     "output_type": "stream",
     "text": [
      "'ls' 不是内部或外部命令，也不是可运行的程序\n",
      "或批处理文件。\n"
     ]
    }
   ],
   "source": [
    "! ls"
   ]
  },
  {
   "cell_type": "code",
   "execution_count": null,
   "id": "149cc6d4",
   "metadata": {},
   "outputs": [],
   "source": []
  }
 ],
 "metadata": {
  "kernelspec": {
   "display_name": "macs30123",
   "language": "python",
   "name": "macs30123"
  },
  "language_info": {
   "codemirror_mode": {
    "name": "ipython",
    "version": 3
   },
   "file_extension": ".py",
   "mimetype": "text/x-python",
   "name": "python",
   "nbconvert_exporter": "python",
   "pygments_lexer": "ipython3",
   "version": "3.7.10"
  }
 },
 "nbformat": 4,
 "nbformat_minor": 5
}
