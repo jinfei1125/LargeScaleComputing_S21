{
 "cells": [
  {
   "cell_type": "code",
   "execution_count": 2,
   "id": "1436ed53",
   "metadata": {},
   "outputs": [
    {
     "name": "stdout",
     "output_type": "stream",
     "text": [
      "Collecting mrjob\n",
      "  Downloading mrjob-0.7.4-py2.py3-none-any.whl (439 kB)\n",
      "Requirement already satisfied: PyYAML>=3.10 in d:\\software\\anaconda3\\envs\\macs30123\\lib\\site-packages (from mrjob) (5.4.1)\n",
      "Installing collected packages: mrjob\n",
      "Successfully installed mrjob-0.7.4\n"
     ]
    }
   ],
   "source": [
    "! pip install mrjob"
   ]
  },
  {
   "cell_type": "code",
   "execution_count": 3,
   "id": "e18763a5",
   "metadata": {},
   "outputs": [
    {
     "name": "stdout",
     "output_type": "stream",
     "text": [
      "47\t\"the\"\n"
     ]
    },
    {
     "name": "stderr",
     "output_type": "stream",
     "text": [
      "No configs found; falling back on auto-configuration\n",
      "No configs specified for inline runner\n",
      "Creating temp directory C:\\Users\\hp\\AppData\\Local\\Temp\\mapreduce_lab5.hp.20210505.025616.881004\n",
      "Running step 1 of 2...\n",
      "Running step 2 of 2...\n",
      "job output is in C:\\Users\\hp\\AppData\\Local\\Temp\\mapreduce_lab5.hp.20210505.025616.881004\\output\n",
      "Streaming final output from C:\\Users\\hp\\AppData\\Local\\Temp\\mapreduce_lab5.hp.20210505.025616.881004\\output...\n",
      "Removing temp directory C:\\Users\\hp\\AppData\\Local\\Temp\\mapreduce_lab5.hp.20210505.025616.881004...\n"
     ]
    }
   ],
   "source": [
    "! python mapreduce_lab5.py sample_us.tsv"
   ]
  },
  {
   "cell_type": "code",
   "execution_count": 7,
   "id": "17d7a258",
   "metadata": {},
   "outputs": [
    {
     "data": {
      "text/plain": [
       "'D:\\\\UChicago\\\\UChicago-2021-Spring\\\\Large_Scale_Computing\\\\LargeScaleComputing_S21\\\\Labs\\\\Lab 5 Ingesting and Processing Large-Scale Data\\\\Part I MapReduce'"
      ]
     },
     "execution_count": 7,
     "metadata": {},
     "output_type": "execute_result"
    }
   ],
   "source": [
    "%pwd"
   ]
  },
  {
   "cell_type": "code",
   "execution_count": 1,
   "id": "faae9535",
   "metadata": {},
   "outputs": [
    {
     "name": "stderr",
     "output_type": "stream",
     "text": [
      "No configs found; falling back on auto-configuration\n",
      "No configs specified for emr runner\n",
      "Traceback (most recent call last):\n",
      "  File \"d:\\software\\anaconda3\\envs\\macs30123\\lib\\runpy.py\", line 193, in _run_module_as_main\n",
      "    \"__main__\", mod_spec)\n",
      "  File \"d:\\software\\anaconda3\\envs\\macs30123\\lib\\runpy.py\", line 85, in _run_code\n",
      "    exec(code, run_globals)\n",
      "  File \"D:\\Software\\Anaconda3\\envs\\macs30123\\Scripts\\mrjob.exe\\__main__.py\", line 7, in <module>\n",
      "  File \"d:\\software\\anaconda3\\envs\\macs30123\\lib\\site-packages\\mrjob\\cmd.py\", line 68, in main\n",
      "    commands[args[1]](args[2:])\n",
      "  File \"d:\\software\\anaconda3\\envs\\macs30123\\lib\\site-packages\\mrjob\\cmd.py\", line 80, in _create_cluster\n",
      "    main(args)\n",
      "  File \"d:\\software\\anaconda3\\envs\\macs30123\\lib\\site-packages\\mrjob\\tools\\emr\\create_cluster.py\", line 204, in main\n",
      "    runner = EMRJobRunner(**_runner_kwargs(args))\n",
      "  File \"d:\\software\\anaconda3\\envs\\macs30123\\lib\\site-packages\\mrjob\\emr.py\", line 358, in __init__\n",
      "    self._fix_s3_tmp_and_log_uri_opts()\n",
      "  File \"d:\\software\\anaconda3\\envs\\macs30123\\lib\\site-packages\\mrjob\\emr.py\", line 599, in _fix_s3_tmp_and_log_uri_opts\n",
      "    self._set_cloud_tmp_dir()\n",
      "  File \"d:\\software\\anaconda3\\envs\\macs30123\\lib\\site-packages\\mrjob\\emr.py\", line 617, in _set_cloud_tmp_dir\n",
      "    for bucket_name in self.fs.s3.get_all_bucket_names():\n",
      "  File \"d:\\software\\anaconda3\\envs\\macs30123\\lib\\site-packages\\mrjob\\fs\\s3.py\", line 332, in get_all_bucket_names\n",
      "    return [b['Name'] for b in c.list_buckets()['Buckets']]\n",
      "  File \"d:\\software\\anaconda3\\envs\\macs30123\\lib\\site-packages\\mrjob\\retry.py\", line 108, in call_and_maybe_retry\n",
      "    return f(*args, **kwargs)\n",
      "  File \"d:\\software\\anaconda3\\envs\\macs30123\\lib\\site-packages\\botocore\\client.py\", line 357, in _api_call\n",
      "    return self._make_api_call(operation_name, kwargs)\n",
      "  File \"d:\\software\\anaconda3\\envs\\macs30123\\lib\\site-packages\\botocore\\client.py\", line 676, in _make_api_call\n",
      "    raise error_class(parsed_response, operation_name)\n",
      "botocore.exceptions.ClientError: An error occurred (AccessDenied) when calling the ListBuckets operation: Access Denied\n"
     ]
    }
   ],
   "source": [
    "! mrjob create-cluster"
   ]
  },
  {
   "cell_type": "code",
   "execution_count": 2,
   "id": "68f7ac20",
   "metadata": {},
   "outputs": [
    {
     "name": "stderr",
     "output_type": "stream",
     "text": [
      "No configs found; falling back on auto-configuration\n",
      "No configs specified for emr runner\n",
      "Traceback (most recent call last):\n",
      "  File \"mapreduce_lab5.py\", line 61, in <module>\n",
      "    MRMostUsedWord.run()\n",
      "  File \"D:\\Software\\Anaconda3\\envs\\macs30123\\lib\\site-packages\\mrjob\\job.py\", line 616, in run\n",
      "    cls().execute()\n",
      "  File \"D:\\Software\\Anaconda3\\envs\\macs30123\\lib\\site-packages\\mrjob\\job.py\", line 687, in execute\n",
      "    self.run_job()\n",
      "  File \"D:\\Software\\Anaconda3\\envs\\macs30123\\lib\\site-packages\\mrjob\\job.py\", line 634, in run_job\n",
      "    with self.make_runner() as runner:\n",
      "  File \"D:\\Software\\Anaconda3\\envs\\macs30123\\lib\\site-packages\\mrjob\\job.py\", line 713, in make_runner\n",
      "    return self._runner_class()(**self._runner_kwargs())\n",
      "  File \"D:\\Software\\Anaconda3\\envs\\macs30123\\lib\\site-packages\\mrjob\\emr.py\", line 358, in __init__\n",
      "    self._fix_s3_tmp_and_log_uri_opts()\n",
      "  File \"D:\\Software\\Anaconda3\\envs\\macs30123\\lib\\site-packages\\mrjob\\emr.py\", line 599, in _fix_s3_tmp_and_log_uri_opts\n",
      "    self._set_cloud_tmp_dir()\n",
      "  File \"D:\\Software\\Anaconda3\\envs\\macs30123\\lib\\site-packages\\mrjob\\emr.py\", line 617, in _set_cloud_tmp_dir\n",
      "    for bucket_name in self.fs.s3.get_all_bucket_names():\n",
      "  File \"D:\\Software\\Anaconda3\\envs\\macs30123\\lib\\site-packages\\mrjob\\fs\\s3.py\", line 332, in get_all_bucket_names\n",
      "    return [b['Name'] for b in c.list_buckets()['Buckets']]\n",
      "  File \"D:\\Software\\Anaconda3\\envs\\macs30123\\lib\\site-packages\\mrjob\\retry.py\", line 108, in call_and_maybe_retry\n",
      "    return f(*args, **kwargs)\n",
      "  File \"D:\\Software\\Anaconda3\\envs\\macs30123\\lib\\site-packages\\botocore\\client.py\", line 357, in _api_call\n",
      "    return self._make_api_call(operation_name, kwargs)\n",
      "  File \"D:\\Software\\Anaconda3\\envs\\macs30123\\lib\\site-packages\\botocore\\client.py\", line 676, in _make_api_call\n",
      "    raise error_class(parsed_response, operation_name)\n",
      "botocore.exceptions.ClientError: An error occurred (AccessDenied) when calling the ListBuckets operation: Access Denied\n"
     ]
    }
   ],
   "source": [
    "! python mapreduce_lab5.py -r emr sample_us.tsv"
   ]
  },
  {
   "cell_type": "code",
   "execution_count": null,
   "id": "c5336814",
   "metadata": {},
   "outputs": [],
   "source": []
  }
 ],
 "metadata": {
  "kernelspec": {
   "display_name": "macs30123",
   "language": "python",
   "name": "macs30123"
  },
  "language_info": {
   "codemirror_mode": {
    "name": "ipython",
    "version": 3
   },
   "file_extension": ".py",
   "mimetype": "text/x-python",
   "name": "python",
   "nbconvert_exporter": "python",
   "pygments_lexer": "ipython3",
   "version": "3.7.10"
  }
 },
 "nbformat": 4,
 "nbformat_minor": 5
}
