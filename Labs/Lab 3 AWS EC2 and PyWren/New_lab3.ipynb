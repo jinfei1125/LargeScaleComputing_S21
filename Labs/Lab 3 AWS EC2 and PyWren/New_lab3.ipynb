{
 "cells": [
  {
   "cell_type": "markdown",
   "id": "38cd5de3",
   "metadata": {},
   "source": [
    "# Using AWS Lambda and PyWren to make HTTP Requests in Parallel\n",
    "\n",
    "A common task for computational social scientists is making HTTP requests to access and process web data. It can be quite limiting to make these requests serially, though. When we do, the amount of data we are able to collect is limited both by our internet bandwidth and machine's ability to sequentially process the data.\n",
    "\n",
    "It would be much better to parallelize this workflow. In this notebook, we're going to walk through how we can make API requests and perform simple calculations on text data in parallel using AWS Lambda and PyWren. Specifically, we will call the [Google Books API](https://developers.google.com/books/docs/v1/getting_started) in parallel on a list of ISBNs, calculating the number of words used in the description for each book in our ISBN list (see workflow below). Word count is a simple metric (used here as a proof-of-concept), but it would also be possible to perform other Natural Language Processing routines using this same approach. Such a cloud workflow allows us to gather and process far greater amounts of data than would be otherwise possible on our local machines.\n",
    "\n",
    "![AWS Serverless Workflow](pywren_workflow.png)\n",
    "\n",
    "If you haven't already, please [install/configure PyWren](http://pywren.io/pages/gettingstarted.html) in order to run this notebook. Then, let's import our packages and read in the list of ISBN numbers we'll be working with in this notebook:"
   ]
  },
  {
   "cell_type": "code",
   "execution_count": 2,
   "id": "10e7334d",
   "metadata": {},
   "outputs": [
    {
     "name": "stdout",
     "output_type": "stream",
     "text": [
      "Collecting matplotlib\n",
      "  Downloading matplotlib-3.4.1-cp37-cp37m-win_amd64.whl (7.1 MB)\n",
      "Collecting kiwisolver>=1.0.1\n",
      "  Downloading kiwisolver-1.3.1-cp37-cp37m-win_amd64.whl (51 kB)\n",
      "Collecting pillow>=6.2.0\n",
      "  Downloading Pillow-8.2.0-cp37-cp37m-win_amd64.whl (2.2 MB)\n",
      "Requirement already satisfied: python-dateutil>=2.7 in d:\\software\\anaconda3\\envs\\macs30123\\lib\\site-packages (from matplotlib) (2.8.1)\n",
      "Collecting numpy>=1.16\n",
      "  Downloading numpy-1.20.2-cp37-cp37m-win_amd64.whl (13.6 MB)\n",
      "Requirement already satisfied: pyparsing>=2.2.1 in d:\\software\\anaconda3\\envs\\macs30123\\lib\\site-packages (from matplotlib) (2.4.7)\n",
      "Collecting cycler>=0.10\n",
      "  Using cached cycler-0.10.0-py2.py3-none-any.whl (6.5 kB)\n",
      "Requirement already satisfied: six in d:\\software\\anaconda3\\envs\\macs30123\\lib\\site-packages (from cycler>=0.10->matplotlib) (1.15.0)\n",
      "Installing collected packages: pillow, numpy, kiwisolver, cycler, matplotlib\n",
      "Successfully installed cycler-0.10.0 kiwisolver-1.3.1 matplotlib-3.4.1 numpy-1.20.2 pillow-8.2.0\n"
     ]
    }
   ],
   "source": [
    "!pip install matplotlib"
   ]
  },
  {
   "cell_type": "code",
   "execution_count": 3,
   "id": "f6231386",
   "metadata": {},
   "outputs": [],
   "source": [
    "import pywren\n",
    "import requests\n",
    "import time\n",
    "import matplotlib.pyplot as plt\n",
    "\n",
    "with open('isbn.txt') as file:\n",
    "    isbn_list = [isbn.strip() for isbn in file]"
   ]
  },
  {
   "cell_type": "code",
   "execution_count": 4,
   "id": "b086c039",
   "metadata": {},
   "outputs": [
    {
     "name": "stdout",
     "output_type": "stream",
     "text": [
      "# of ISBNs in list: 500\n"
     ]
    }
   ],
   "source": [
    "print(\"# of ISBNs in list:\", len(isbn_list))"
   ]
  },
  {
   "cell_type": "markdown",
   "id": "18cc8a01",
   "metadata": {},
   "source": [
    "We can specify search terms to return metadata from the Google Books dataset by entering a query string after the ?q= string in the API URL. For instance, we could specify an individual ISBN number for a book, like so:"
   ]
  },
  {
   "cell_type": "code",
   "execution_count": 5,
   "id": "d88a2b5b",
   "metadata": {},
   "outputs": [
    {
     "name": "stdout",
     "output_type": "stream",
     "text": [
      "https://www.googleapis.com/books/v1/volumes?q=isbn:0435910108\n"
     ]
    }
   ],
   "source": [
    "url = \"https://www.googleapis.com/books/v1/volumes?q=isbn:\"\n",
    "print(url + isbn_list[0])"
   ]
  },
  {
   "cell_type": "markdown",
   "id": "2195c61a",
   "metadata": {},
   "source": [
    "This will return the metadata for a single book:"
   ]
  },
  {
   "cell_type": "code",
   "execution_count": 6,
   "id": "1632ad12",
   "metadata": {},
   "outputs": [
    {
     "data": {
      "text/plain": [
       "{'kind': 'books#volumes',\n",
       " 'totalItems': 1,\n",
       " 'items': [{'kind': 'books#volume',\n",
       "   'id': 'DGALPwfF9fAC',\n",
       "   'etag': 'h7I00Ttkiz4',\n",
       "   'selfLink': 'https://www.googleapis.com/books/v1/volumes/DGALPwfF9fAC',\n",
       "   'volumeInfo': {'title': 'The Best American Essays of the Century',\n",
       "    'authors': ['Joyce Carol Oates', 'Robert Atwan'],\n",
       "    'publisher': 'Mariner Books',\n",
       "    'publishedDate': '2000',\n",
       "    'description': 'An anthology of fifty-five essays on a variety of topics features contributions by F. Scott Fitzgerald, James Baldwin, Stephen Jay Gould, Alice Walker, Maya Angelou, and other notable twentieth-century literary masters.',\n",
       "    'industryIdentifiers': [{'type': 'ISBN_10', 'identifier': '0618155872'},\n",
       "     {'type': 'ISBN_13', 'identifier': '9780618155873'}],\n",
       "    'readingModes': {'text': False, 'image': False},\n",
       "    'pageCount': 596,\n",
       "    'printType': 'BOOK',\n",
       "    'categories': ['Literary Collections'],\n",
       "    'averageRating': 4,\n",
       "    'ratingsCount': 1,\n",
       "    'maturityRating': 'NOT_MATURE',\n",
       "    'allowAnonLogging': False,\n",
       "    'contentVersion': '0.2.2.0.preview.0',\n",
       "    'panelizationSummary': {'containsEpubBubbles': False,\n",
       "     'containsImageBubbles': False},\n",
       "    'imageLinks': {'smallThumbnail': 'http://books.google.com/books/content?id=DGALPwfF9fAC&printsec=frontcover&img=1&zoom=5&source=gbs_api',\n",
       "     'thumbnail': 'http://books.google.com/books/content?id=DGALPwfF9fAC&printsec=frontcover&img=1&zoom=1&source=gbs_api'},\n",
       "    'language': 'en',\n",
       "    'previewLink': 'http://books.google.com/books?id=DGALPwfF9fAC&pg=PP1&dq=isbn:0618155872&hl=&cd=1&source=gbs_api',\n",
       "    'infoLink': 'http://books.google.com/books?id=DGALPwfF9fAC&dq=isbn:0618155872&hl=&source=gbs_api',\n",
       "    'canonicalVolumeLink': 'https://books.google.com/books/about/The_Best_American_Essays_of_the_Century.html?hl=&id=DGALPwfF9fAC'},\n",
       "   'saleInfo': {'country': 'US',\n",
       "    'saleability': 'NOT_FOR_SALE',\n",
       "    'isEbook': False},\n",
       "   'accessInfo': {'country': 'US',\n",
       "    'viewability': 'NO_PAGES',\n",
       "    'embeddable': False,\n",
       "    'publicDomain': False,\n",
       "    'textToSpeechPermission': 'ALLOWED',\n",
       "    'epub': {'isAvailable': False},\n",
       "    'pdf': {'isAvailable': False},\n",
       "    'webReaderLink': 'http://play.google.com/books/reader?id=DGALPwfF9fAC&hl=&printsec=frontcover&source=gbs_api',\n",
       "    'accessViewStatus': 'NONE',\n",
       "    'quoteSharingAllowed': False}}]}"
      ]
     },
     "execution_count": 6,
     "metadata": {},
     "output_type": "execute_result"
    }
   ],
   "source": [
    "r = requests.get(url + isbn_list[50])\n",
    "data = r.json()\n",
    "data"
   ]
  },
  {
   "cell_type": "markdown",
   "id": "bf90dc62",
   "metadata": {},
   "source": [
    "Once we have this data, we can compute metrics based on it, such as determining the number of words in a given book's description:"
   ]
  },
  {
   "cell_type": "code",
   "execution_count": 7,
   "id": "9272f3b9",
   "metadata": {},
   "outputs": [
    {
     "data": {
      "text/plain": [
       "31"
      ]
     },
     "execution_count": 7,
     "metadata": {},
     "output_type": "execute_result"
    }
   ],
   "source": [
    "description = data['items'][0]['volumeInfo']['description']\n",
    "wc = len(description.split())\n",
    "wc"
   ]
  },
  {
   "cell_type": "markdown",
   "id": "d3cd3fa6",
   "metadata": {},
   "source": [
    "Let's formalize this process so that we can determine the number of words that are in ***each*** description in a list of ISBN numbers:"
   ]
  },
  {
   "cell_type": "code",
   "execution_count": 8,
   "id": "95c821d3",
   "metadata": {},
   "outputs": [],
   "source": [
    "def get_desc_wc(isbn_list):\n",
    "    '''\n",
    "    Takes in a list of ISBNs and returns a list of description\n",
    "    word counts corresponding to each ISBN (via the Google\n",
    "    Books API).\n",
    "    '''\n",
    "    wc_list = []\n",
    "    for isbn in isbn_list:\n",
    "        r = requests.get(url + isbn)\n",
    "        data = r.json()\n",
    "        # Try to get description, but if there is none, set\n",
    "        # word count to be 0 for that book\n",
    "        try:\n",
    "            description = data['items'][0]['volumeInfo']['description']\n",
    "            wc_list.append(len(description.split()))\n",
    "        except KeyError:\n",
    "            wc_list.append(0)\n",
    "            pass\n",
    "    return wc_list"
   ]
  },
  {
   "cell_type": "markdown",
   "id": "477e7bc4",
   "metadata": {},
   "source": [
    "We can then call our function and it will sequentially request information and calculate the description word count for each one of our ISBNs in the list:"
   ]
  },
  {
   "cell_type": "code",
   "execution_count": 9,
   "id": "20984419",
   "metadata": {},
   "outputs": [
    {
     "name": "stdout",
     "output_type": "stream",
     "text": [
      "Time elapsed (in seconds) - Serial:  163.1198649406433\n"
     ]
    },
    {
     "data": {
      "image/png": "[encoded data removed]",
      "text/plain": [
       "<Figure size 432x288 with 1 Axes>"
      ]
     },
     "metadata": {
      "needs_background": "light"
     },
     "output_type": "display_data"
    }
   ],
   "source": [
    "start = time.time()\n",
    "wc_list = get_desc_wc(isbn_list)\n",
    "time_elapsed = time.time() - start\n",
    "\n",
    "print(\"Time elapsed (in seconds) - Serial: \", time_elapsed)\n",
    "\n",
    "plt.hist(wc_list);"
   ]
  },
  {
   "cell_type": "markdown",
   "id": "13c7fce7",
   "metadata": {},
   "source": [
    "This is a bit slow (exactly how slow will be variable and heavily based on your internet connection!), though, and could benefit from parallelization. One way we can do this in a \"serverless\" fashion is by using PyWren to invoke AWS Lambda functions that make these ISBN API calls (and calculate the description word count) in parallel. To give each Lambda worker a single ISBN to work with, we can write another function that handles each ISBN individually:"
   ]
  },
  {
   "cell_type": "code",
   "execution_count": 10,
   "id": "92901181",
   "metadata": {},
   "outputs": [],
   "source": [
    "def get_desc_wc_parallel(isbn):\n",
    "    '''\n",
    "    Takes in a single ISBN and returns a single description\n",
    "    word count corresponding to the input ISBN (via the Google\n",
    "    Books API).\n",
    "    '''\n",
    "    wc = 0\n",
    "    r = requests.get(url + isbn)\n",
    "    data = r.json()\n",
    "    try:\n",
    "        description = data['items'][0]['volumeInfo']['description']\n",
    "        wc = len(description.split())\n",
    "    except KeyError:\n",
    "        pass\n",
    "    return wc"
   ]
  },
  {
   "cell_type": "markdown",
   "id": "f7c1df40",
   "metadata": {},
   "source": [
    "And we can then use PyWren and AWS Lambda to remotely execute this function on each ISBN in our ISBN list in parallel:"
   ]
  },
  {
   "cell_type": "code",
   "execution_count": 11,
   "id": "4ebcba25",
   "metadata": {},
   "outputs": [
    {
     "name": "stdout",
     "output_type": "stream",
     "text": [
      "Time elapsed (in seconds) - AWS Lambda Solution 45.47473740577698\n"
     ]
    }
   ],
   "source": [
    "pwex = pywren.default_executor()\n",
    "start = time.time()\n",
    "\n",
    "# Apply get_desc_wc to list of ISBNs, which will automatically be remotely executed by AWS Lambda in parallel\n",
    "futures = pwex.map(get_desc_wc_parallel, isbn_list)\n",
    "\n",
    "# get_all_results waits until all of the futures have been executed and then returns their results\n",
    "# note that this is an alternative to the list comprehension in the lecture video\n",
    "wc_list = pywren.get_all_results(futures)\n",
    "\n",
    "time_elapsed = time.time() - start\n",
    "\n",
    "print(\"Time elapsed (in seconds) - AWS Lambda Solution\", time_elapsed)"
   ]
  },
  {
   "cell_type": "code",
   "execution_count": 12,
   "id": "f48d3b32",
   "metadata": {},
   "outputs": [
    {
     "data": {
      "image/png": "[encoded data removed]",
      "text/plain": [
       "<Figure size 432x288 with 1 Axes>"
      ]
     },
     "metadata": {
      "needs_background": "light"
     },
     "output_type": "display_data"
    }
   ],
   "source": [
    "plt.hist(wc_list); # should mirror plot derived from serial execution"
   ]
  },
  {
   "cell_type": "markdown",
   "id": "5b546550",
   "metadata": {},
   "source": [
    "If we plot the results that PyWren has given us (see above), we can see that we have the same result, but it takes a lot less time to execute when we make API calls in parallel, even accounting for all of the communications between us and AWS and time spent invoking and setting up our Lambda workers. \n",
    "\n",
    "This means that we should be able to gather a lot more data than we would be capable of gathering serially!\n",
    "\n",
    "So, let's say that we had 2000 ISBNs instead of just 500. We can simulate this by extending our list with copies of the existing ISBNs and then rerunning our code with this new data size:"
   ]
  },
  {
   "cell_type": "code",
   "execution_count": 13,
   "id": "86140e42",
   "metadata": {},
   "outputs": [
    {
     "name": "stdout",
     "output_type": "stream",
     "text": [
      "Time elapsed (in seconds) - Serial:  534.3644404411316\n"
     ]
    }
   ],
   "source": [
    "isbn_list = isbn_list * 4\n",
    "\n",
    "start = time.time()\n",
    "wc_list = get_desc_wc(isbn_list)\n",
    "time_elapsed = time.time() - start\n",
    "\n",
    "print(\"Time elapsed (in seconds) - Serial: \", time_elapsed)"
   ]
  },
  {
   "cell_type": "markdown",
   "id": "46653d83",
   "metadata": {},
   "source": [
    "So, operating serially, this would take us awhile to perform all of these API calls (again, depending on your machine and internet connection). What about in parallel with Lambda and PyWren?"
   ]
  },
  {
   "cell_type": "code",
   "execution_count": 14,
   "id": "7de45da4",
   "metadata": {},
   "outputs": [
    {
     "name": "stdout",
     "output_type": "stream",
     "text": [
      "Time elapsed (in seconds) - AWS Lambda Solution 74.38310098648071\n"
     ]
    }
   ],
   "source": [
    "start = time.time()\n",
    "\n",
    "# Apply get_desc_wc to list of ISBNs, which will automatically be remotely executed by AWS Lambda in parallel\n",
    "futures = pwex.map(get_desc_wc_parallel, isbn_list)\n",
    "\n",
    "# get_all_results waits until all of the futures have been executed and then returns their results\n",
    "# note that this is an alternative to the list comprehension in the lecture video\n",
    "wc_list = pywren.get_all_results(futures)\n",
    "\n",
    "time_elapsed = time.time() - start\n",
    "\n",
    "print(\"Time elapsed (in seconds) - AWS Lambda Solution\", time_elapsed)"
   ]
  },
  {
   "cell_type": "markdown",
   "id": "5cfa6f00",
   "metadata": {},
   "source": [
    "We're around 5-10x faster than serial. Currently, though, note that we're invoking a devoted Lambda function instance to request metadata ***for each*** of our ISBNs. Imagine, though, that we have 6000 ISBNs that we want to process in parallel. This will exceed the [maximum of number of concurrent Lambda workers (3000)](https://docs.aws.amazon.com/lambda/latest/dg/invocation-scaling.html) and, thus, our scaling capabilities will be limited:"
   ]
  },
  {
   "cell_type": "code",
   "execution_count": 15,
   "id": "b1a39aee",
   "metadata": {},
   "outputs": [
    {
     "name": "stdout",
     "output_type": "stream",
     "text": [
      "Time elapsed (in seconds) - AWS Lambda Solution 216.64267873764038\n"
     ]
    }
   ],
   "source": [
    "isbn_list = isbn_list * 3 # 6000 ISBNs\n",
    "start = time.time()\n",
    "\n",
    "# Apply get_desc_wc to list of ISBNs, which will automatically be remotely executed by AWS Lambda in parallel\n",
    "futures = pwex.map(get_desc_wc_parallel, isbn_list)\n",
    "\n",
    "# get_all_results waits until all of the futures have been executed and then returns their results\n",
    "# note that this is an alternative to the list comprehension in the lecture video\n",
    "wc_list = pywren.get_all_results(futures)\n",
    "\n",
    "time_elapsed = time.time() - start\n",
    "\n",
    "print(\"Time elapsed (in seconds) - AWS Lambda Solution\", time_elapsed)"
   ]
  },
  {
   "cell_type": "markdown",
   "id": "b88ce252",
   "metadata": {},
   "source": [
    "One way to get around this with PyWren is to make ***multiple API requests on a single set of 3000 simultaneous Lambda workers*** that we have already invoked to perform the first round of API requests. These requests do not take much time to perform on their own and can be performed concurrently. So, for instance, we might construct batch sizes of 2 ISBNs for each Lambda function to request information about and process (spread across 3000 parallel Lambda functions):"
   ]
  },
  {
   "cell_type": "code",
   "execution_count": 16,
   "id": "d50a7360",
   "metadata": {},
   "outputs": [
    {
     "name": "stdout",
     "output_type": "stream",
     "text": [
      "3000 2\n"
     ]
    }
   ],
   "source": [
    "n = 2 # subdivide list of ISBNs into batches of size 2\n",
    "isbn_batches = [isbn_list[i:i + n] for i in range(0, len(isbn_list), n)]\n",
    "print(len(isbn_batches), len(isbn_batches[0]))"
   ]
  },
  {
   "cell_type": "code",
   "execution_count": 17,
   "id": "7f53305d",
   "metadata": {},
   "outputs": [
    {
     "name": "stdout",
     "output_type": "stream",
     "text": [
      "Time elapsed (in seconds) - AWS Lambda Solution 109.64466261863708\n"
     ]
    }
   ],
   "source": [
    "start = time.time()\n",
    "\n",
    "# Apply get_desc_wc to list of ISBNs, which will automatically be remotely executed by AWS Lambda in parallel\n",
    "# each invocation of get_desc_wc is passed a length-2 list of ISBNs\n",
    "futures = pwex.map(get_desc_wc, isbn_batches)\n",
    "\n",
    "# get_all_results waits until all of the futures have been executed and then returns their results\n",
    "# will return list of length-2 lists -- need to flatten this for further processing\n",
    "wc_list = pywren.get_all_results(futures) \n",
    "\n",
    "time_elapsed = time.time() - start\n",
    "\n",
    "print(\"Time elapsed (in seconds) - AWS Lambda Solution\", time_elapsed)"
   ]
  },
  {
   "cell_type": "markdown",
   "id": "8740c411",
   "metadata": {},
   "source": [
    "Much better! By constructing mini-batches of our ISBNs, we maximize the use of the lambda workers that we have invoked without needing to invoke and set up another set of workers, as in our initial PyWren solution above. This is also a fairly scalable solution --  as we increase our data size, we will continue to see our parallel solution improve upon our serial one (so long as we don't go beyond the maximum Lambda timeout window for each Lambda worker)."
   ]
  },
  {
   "cell_type": "code",
   "execution_count": null,
   "id": "8a294d76",
   "metadata": {},
   "outputs": [],
   "source": []
  }
 ],
 "metadata": {
  "kernelspec": {
   "display_name": "macs30123",
   "language": "python",
   "name": "macs30123"
  },
  "language_info": {
   "codemirror_mode": {
    "name": "ipython",
    "version": 3
   },
   "file_extension": ".py",
   "mimetype": "text/x-python",
   "name": "python",
   "nbconvert_exporter": "python",
   "pygments_lexer": "ipython3",
   "version": "3.7.10"
  }
 },
 "nbformat": 4,
 "nbformat_minor": 5
}
